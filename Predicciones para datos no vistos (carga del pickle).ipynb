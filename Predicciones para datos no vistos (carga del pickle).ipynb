{
 "cells": [
  {
   "cell_type": "code",
   "execution_count": 1,
   "metadata": {
    "ExecuteTime": {
     "end_time": "2021-04-20T02:35:05.559227Z",
     "start_time": "2021-04-20T02:35:02.763284Z"
    }
   },
   "outputs": [
    {
     "data": {
      "text/html": [
       "        <script type=\"text/javascript\">\n",
       "        window.PlotlyConfig = {MathJaxConfig: 'local'};\n",
       "        if (window.MathJax) {MathJax.Hub.Config({SVG: {font: \"STIX-Web\"}});}\n",
       "        if (typeof require !== 'undefined') {\n",
       "        require.undef(\"plotly\");\n",
       "        requirejs.config({\n",
       "            paths: {\n",
       "                'plotly': ['https://cdn.plot.ly/plotly-latest.min']\n",
       "            }\n",
       "        });\n",
       "        require(['plotly'], function(Plotly) {\n",
       "            window._Plotly = Plotly;\n",
       "        });\n",
       "        }\n",
       "        </script>\n",
       "        "
      ]
     },
     "metadata": {},
     "output_type": "display_data"
    },
    {
     "data": {
      "text/html": [
       "        <script type=\"text/javascript\">\n",
       "        window.PlotlyConfig = {MathJaxConfig: 'local'};\n",
       "        if (window.MathJax) {MathJax.Hub.Config({SVG: {font: \"STIX-Web\"}});}\n",
       "        if (typeof require !== 'undefined') {\n",
       "        require.undef(\"plotly\");\n",
       "        requirejs.config({\n",
       "            paths: {\n",
       "                'plotly': ['https://cdn.plot.ly/plotly-latest.min']\n",
       "            }\n",
       "        });\n",
       "        require(['plotly'], function(Plotly) {\n",
       "            window._Plotly = Plotly;\n",
       "        });\n",
       "        }\n",
       "        </script>\n",
       "        "
      ]
     },
     "metadata": {},
     "output_type": "display_data"
    }
   ],
   "source": [
    "from functions_ok import *\n",
    "from pipeline import *\n",
    "import pickle\n",
    "\n",
    "pkl_filename = \"pickle_model_clasif.pkl\"\n",
    "with open(pkl_filename, 'rb') as file:\n",
    "    pickle_model_clasif = pickle.load(file)\n",
    "    \n",
    "pkl_filename = \"pickle_model_regr.pkl\"\n",
    "with open(pkl_filename, 'rb') as file:\n",
    "    pickle_model_regr = pickle.load(file)"
   ]
  },
  {
   "cell_type": "markdown",
   "metadata": {},
   "source": [
    "# Lectura de datos"
   ]
  },
  {
   "cell_type": "code",
   "execution_count": 2,
   "metadata": {
    "ExecuteTime": {
     "end_time": "2021-04-20T02:35:07.065825Z",
     "start_time": "2021-04-20T02:35:05.562190Z"
    }
   },
   "outputs": [],
   "source": [
    "#Leer datos\n",
    "#cambiar archivo para datos no vistos\n",
    "df_1 =  pd.read_csv(\"data_examen.csv\").sample(10)\n",
    "df_2 = df_1.copy()\n",
    "df_3 = df_1.copy()\n",
    "df_4 = df_1.copy()"
   ]
  },
  {
   "cell_type": "markdown",
   "metadata": {},
   "source": [
    "## Predicciones modelo de clasificación"
   ]
  },
  {
   "cell_type": "code",
   "execution_count": 3,
   "metadata": {
    "ExecuteTime": {
     "end_time": "2021-04-20T02:35:07.111674Z",
     "start_time": "2021-04-20T02:35:07.068824Z"
    }
   },
   "outputs": [
    {
     "data": {
      "text/plain": [
       "array([0, 0, 0, 0, 0, 0, 0, 1, 0, 0], dtype=int64)"
      ]
     },
     "execution_count": 3,
     "metadata": {},
     "output_type": "execute_result"
    }
   ],
   "source": [
    "# Calcula las predicciones\n",
    "pred = pickle_model_clasif.predict(transformaciones_df(df_2))\n",
    "pred"
   ]
  },
  {
   "cell_type": "code",
   "execution_count": 4,
   "metadata": {
    "ExecuteTime": {
     "end_time": "2021-04-20T02:35:07.141689Z",
     "start_time": "2021-04-20T02:35:07.115672Z"
    }
   },
   "outputs": [
    {
     "data": {
      "text/plain": [
       "array([0.00269195, 0.00269195, 0.43162393, 0.00269195, 0.00269195,\n",
       "       0.00269195, 0.2345679 , 0.85847589, 0.00269195, 0.0911641 ])"
      ]
     },
     "execution_count": 4,
     "metadata": {},
     "output_type": "execute_result"
    }
   ],
   "source": [
    "#calcula las probas\n",
    "probas=pickle_model_clasif.predict_proba(transformaciones_df(df_3))[:,1]\n",
    "probas"
   ]
  },
  {
   "cell_type": "markdown",
   "metadata": {},
   "source": [
    "# Predicciones modelo de regresión\n"
   ]
  },
  {
   "cell_type": "code",
   "execution_count": 5,
   "metadata": {
    "ExecuteTime": {
     "end_time": "2021-04-20T02:35:07.173708Z",
     "start_time": "2021-04-20T02:35:07.144676Z"
    }
   },
   "outputs": [
    {
     "data": {
      "text/plain": [
       "array([ 4.1 ,  6.1 , 17.45,  4.5 ,  7.  ,  5.3 ,  3.  , 28.1 ,  4.5 ,\n",
       "        4.  ])"
      ]
     },
     "execution_count": 5,
     "metadata": {},
     "output_type": "execute_result"
    }
   ],
   "source": [
    "y_pred=pickle_model_regr.predict(transformaciones_df(df_4))\n",
    "y_pred"
   ]
  },
  {
   "cell_type": "markdown",
   "metadata": {},
   "source": [
    "# Tabla de resultados"
   ]
  },
  {
   "cell_type": "code",
   "execution_count": 6,
   "metadata": {
    "ExecuteTime": {
     "end_time": "2021-04-20T02:35:07.207709Z",
     "start_time": "2021-04-20T02:35:07.175674Z"
    }
   },
   "outputs": [
    {
     "data": {
      "text/html": [
       "<div>\n",
       "<style scoped>\n",
       "    .dataframe tbody tr th:only-of-type {\n",
       "        vertical-align: middle;\n",
       "    }\n",
       "\n",
       "    .dataframe tbody tr th {\n",
       "        vertical-align: top;\n",
       "    }\n",
       "\n",
       "    .dataframe thead th {\n",
       "        text-align: right;\n",
       "    }\n",
       "</style>\n",
       "<table border=\"1\" class=\"dataframe\">\n",
       "  <thead>\n",
       "    <tr style=\"text-align: right;\">\n",
       "      <th></th>\n",
       "      <th>key</th>\n",
       "      <th>fare_amount</th>\n",
       "      <th>pickup_datetime</th>\n",
       "      <th>pickup_longitude</th>\n",
       "      <th>pickup_latitude</th>\n",
       "      <th>dropoff_longitude</th>\n",
       "      <th>dropoff_latitude</th>\n",
       "      <th>passenger_count</th>\n",
       "      <th>fare_class</th>\n",
       "      <th>pred_clasifacion</th>\n",
       "      <th>proba_clasif</th>\n",
       "      <th>pred_regresion</th>\n",
       "    </tr>\n",
       "  </thead>\n",
       "  <tbody>\n",
       "    <tr>\n",
       "      <th>539270</th>\n",
       "      <td>2014-11-04 09:11:25.0000002</td>\n",
       "      <td>4.5</td>\n",
       "      <td>2014-11-04 09:11:25 UTC</td>\n",
       "      <td>-73.986603</td>\n",
       "      <td>40.764914</td>\n",
       "      <td>-73.987804</td>\n",
       "      <td>40.770100</td>\n",
       "      <td>1</td>\n",
       "      <td>low_fare</td>\n",
       "      <td>0</td>\n",
       "      <td>0.002692</td>\n",
       "      <td>4.10</td>\n",
       "    </tr>\n",
       "    <tr>\n",
       "      <th>549914</th>\n",
       "      <td>2009-02-19 11:48:00.000000138</td>\n",
       "      <td>7.3</td>\n",
       "      <td>2009-02-19 11:48:00 UTC</td>\n",
       "      <td>-73.991428</td>\n",
       "      <td>40.729800</td>\n",
       "      <td>-73.998875</td>\n",
       "      <td>40.720467</td>\n",
       "      <td>1</td>\n",
       "      <td>low_fare</td>\n",
       "      <td>0</td>\n",
       "      <td>0.002692</td>\n",
       "      <td>6.10</td>\n",
       "    </tr>\n",
       "    <tr>\n",
       "      <th>94165</th>\n",
       "      <td>2013-05-06 07:36:00.00000071</td>\n",
       "      <td>19.0</td>\n",
       "      <td>2013-05-06 07:36:00 UTC</td>\n",
       "      <td>-73.959992</td>\n",
       "      <td>40.765932</td>\n",
       "      <td>-74.006337</td>\n",
       "      <td>40.706142</td>\n",
       "      <td>1</td>\n",
       "      <td>low_fare</td>\n",
       "      <td>0</td>\n",
       "      <td>0.431624</td>\n",
       "      <td>17.45</td>\n",
       "    </tr>\n",
       "    <tr>\n",
       "      <th>360758</th>\n",
       "      <td>2015-04-19 10:31:45.0000006</td>\n",
       "      <td>4.0</td>\n",
       "      <td>2015-04-19 10:31:45 UTC</td>\n",
       "      <td>-73.980705</td>\n",
       "      <td>40.782570</td>\n",
       "      <td>-73.975433</td>\n",
       "      <td>40.789532</td>\n",
       "      <td>1</td>\n",
       "      <td>low_fare</td>\n",
       "      <td>0</td>\n",
       "      <td>0.002692</td>\n",
       "      <td>4.50</td>\n",
       "    </tr>\n",
       "    <tr>\n",
       "      <th>396053</th>\n",
       "      <td>2012-11-27 19:06:00.000000271</td>\n",
       "      <td>9.0</td>\n",
       "      <td>2012-11-27 19:06:00 UTC</td>\n",
       "      <td>-74.002582</td>\n",
       "      <td>40.749782</td>\n",
       "      <td>-73.985907</td>\n",
       "      <td>40.754730</td>\n",
       "      <td>1</td>\n",
       "      <td>low_fare</td>\n",
       "      <td>0</td>\n",
       "      <td>0.002692</td>\n",
       "      <td>7.00</td>\n",
       "    </tr>\n",
       "    <tr>\n",
       "      <th>101550</th>\n",
       "      <td>2012-04-26 22:04:00.00000049</td>\n",
       "      <td>6.9</td>\n",
       "      <td>2012-04-26 22:04:00 UTC</td>\n",
       "      <td>-74.000175</td>\n",
       "      <td>40.719832</td>\n",
       "      <td>-73.986975</td>\n",
       "      <td>40.721067</td>\n",
       "      <td>1</td>\n",
       "      <td>low_fare</td>\n",
       "      <td>0</td>\n",
       "      <td>0.002692</td>\n",
       "      <td>5.30</td>\n",
       "    </tr>\n",
       "    <tr>\n",
       "      <th>208282</th>\n",
       "      <td>2014-10-14 19:45:57.0000005</td>\n",
       "      <td>6.0</td>\n",
       "      <td>2014-10-14 19:45:57 UTC</td>\n",
       "      <td>0.000000</td>\n",
       "      <td>0.000000</td>\n",
       "      <td>0.000000</td>\n",
       "      <td>0.000000</td>\n",
       "      <td>1</td>\n",
       "      <td>low_fare</td>\n",
       "      <td>0</td>\n",
       "      <td>0.234568</td>\n",
       "      <td>3.00</td>\n",
       "    </tr>\n",
       "    <tr>\n",
       "      <th>18250</th>\n",
       "      <td>2010-02-05 07:52:37.0000001</td>\n",
       "      <td>18.9</td>\n",
       "      <td>2010-02-05 07:52:37 UTC</td>\n",
       "      <td>-73.966952</td>\n",
       "      <td>40.804133</td>\n",
       "      <td>-74.016711</td>\n",
       "      <td>40.715701</td>\n",
       "      <td>1</td>\n",
       "      <td>low_fare</td>\n",
       "      <td>1</td>\n",
       "      <td>0.858476</td>\n",
       "      <td>28.10</td>\n",
       "    </tr>\n",
       "    <tr>\n",
       "      <th>181369</th>\n",
       "      <td>2012-08-17 00:39:11.0000004</td>\n",
       "      <td>4.1</td>\n",
       "      <td>2012-08-17 00:39:11 UTC</td>\n",
       "      <td>-73.958384</td>\n",
       "      <td>40.801038</td>\n",
       "      <td>-73.963726</td>\n",
       "      <td>40.794758</td>\n",
       "      <td>1</td>\n",
       "      <td>low_fare</td>\n",
       "      <td>0</td>\n",
       "      <td>0.002692</td>\n",
       "      <td>4.50</td>\n",
       "    </tr>\n",
       "    <tr>\n",
       "      <th>135640</th>\n",
       "      <td>2009-05-05 17:10:45.0000001</td>\n",
       "      <td>40.0</td>\n",
       "      <td>2009-05-05 17:10:45 UTC</td>\n",
       "      <td>-73.975809</td>\n",
       "      <td>40.763632</td>\n",
       "      <td>-73.974500</td>\n",
       "      <td>40.763174</td>\n",
       "      <td>1</td>\n",
       "      <td>high_fare</td>\n",
       "      <td>0</td>\n",
       "      <td>0.091164</td>\n",
       "      <td>4.00</td>\n",
       "    </tr>\n",
       "  </tbody>\n",
       "</table>\n",
       "</div>"
      ],
      "text/plain": [
       "                                  key  fare_amount          pickup_datetime  \\\n",
       "539270    2014-11-04 09:11:25.0000002          4.5  2014-11-04 09:11:25 UTC   \n",
       "549914  2009-02-19 11:48:00.000000138          7.3  2009-02-19 11:48:00 UTC   \n",
       "94165    2013-05-06 07:36:00.00000071         19.0  2013-05-06 07:36:00 UTC   \n",
       "360758    2015-04-19 10:31:45.0000006          4.0  2015-04-19 10:31:45 UTC   \n",
       "396053  2012-11-27 19:06:00.000000271          9.0  2012-11-27 19:06:00 UTC   \n",
       "101550   2012-04-26 22:04:00.00000049          6.9  2012-04-26 22:04:00 UTC   \n",
       "208282    2014-10-14 19:45:57.0000005          6.0  2014-10-14 19:45:57 UTC   \n",
       "18250     2010-02-05 07:52:37.0000001         18.9  2010-02-05 07:52:37 UTC   \n",
       "181369    2012-08-17 00:39:11.0000004          4.1  2012-08-17 00:39:11 UTC   \n",
       "135640    2009-05-05 17:10:45.0000001         40.0  2009-05-05 17:10:45 UTC   \n",
       "\n",
       "        pickup_longitude  pickup_latitude  dropoff_longitude  \\\n",
       "539270        -73.986603        40.764914         -73.987804   \n",
       "549914        -73.991428        40.729800         -73.998875   \n",
       "94165         -73.959992        40.765932         -74.006337   \n",
       "360758        -73.980705        40.782570         -73.975433   \n",
       "396053        -74.002582        40.749782         -73.985907   \n",
       "101550        -74.000175        40.719832         -73.986975   \n",
       "208282          0.000000         0.000000           0.000000   \n",
       "18250         -73.966952        40.804133         -74.016711   \n",
       "181369        -73.958384        40.801038         -73.963726   \n",
       "135640        -73.975809        40.763632         -73.974500   \n",
       "\n",
       "        dropoff_latitude  passenger_count fare_class  pred_clasifacion  \\\n",
       "539270         40.770100                1   low_fare                 0   \n",
       "549914         40.720467                1   low_fare                 0   \n",
       "94165          40.706142                1   low_fare                 0   \n",
       "360758         40.789532                1   low_fare                 0   \n",
       "396053         40.754730                1   low_fare                 0   \n",
       "101550         40.721067                1   low_fare                 0   \n",
       "208282          0.000000                1   low_fare                 0   \n",
       "18250          40.715701                1   low_fare                 1   \n",
       "181369         40.794758                1   low_fare                 0   \n",
       "135640         40.763174                1  high_fare                 0   \n",
       "\n",
       "        proba_clasif  pred_regresion  \n",
       "539270      0.002692            4.10  \n",
       "549914      0.002692            6.10  \n",
       "94165       0.431624           17.45  \n",
       "360758      0.002692            4.50  \n",
       "396053      0.002692            7.00  \n",
       "101550      0.002692            5.30  \n",
       "208282      0.234568            3.00  \n",
       "18250       0.858476           28.10  \n",
       "181369      0.002692            4.50  \n",
       "135640      0.091164            4.00  "
      ]
     },
     "execution_count": 6,
     "metadata": {},
     "output_type": "execute_result"
    }
   ],
   "source": [
    "df_1[\"pred_clasifacion\"] = pred\n",
    "df_1[\"proba_clasif\"] = probas\n",
    "df_1[\"pred_regresion\"] = y_pred\n",
    "df_1"
   ]
  }
 ],
 "metadata": {
  "kernelspec": {
   "display_name": "Python 3",
   "language": "python",
   "name": "python3"
  },
  "language_info": {
   "codemirror_mode": {
    "name": "ipython",
    "version": 3
   },
   "file_extension": ".py",
   "mimetype": "text/x-python",
   "name": "python",
   "nbconvert_exporter": "python",
   "pygments_lexer": "ipython3",
   "version": "3.7.6"
  }
 },
 "nbformat": 4,
 "nbformat_minor": 4
}
